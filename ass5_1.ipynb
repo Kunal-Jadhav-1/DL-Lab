{
 "cells": [
  {
   "cell_type": "code",
   "execution_count": 14,
   "id": "ea1612f1",
   "metadata": {},
   "outputs": [
    {
     "name": "stdout",
     "output_type": "stream",
     "text": [
      "1 ['deep', 'learning', 'known', 'as']  ->  also\n",
      "2 ['learning', 'also', 'as', 'deep']  ->  known\n",
      "3 ['also', 'known', 'deep', 'structured']  ->  as\n",
      "4 ['known', 'as', 'structured', 'learning']  ->  deep\n",
      "5 ['as', 'deep', 'learning', 'is']  ->  structured\n",
      "6 ['deep', 'structured', 'is', 'part']  ->  learning\n",
      "7 ['structured', 'learning', 'part', 'of']  ->  is\n",
      "8 ['learning', 'is', 'of', 'a']  ->  part\n",
      "9 ['is', 'part', 'a', 'broader']  ->  of\n",
      "10 ['part', 'of', 'broader', 'family']  ->  a\n",
      "11 ['of', 'a', 'family', 'of']  ->  broader\n",
      "12 ['a', 'broader', 'of', 'machine']  ->  family\n",
      "13 ['broader', 'family', 'machine', 'learning']  ->  of\n",
      "14 ['family', 'of', 'learning', 'methods']  ->  machine\n",
      "15 ['of', 'machine', 'methods', 'based']  ->  learning\n"
     ]
    },
    {
     "name": "stderr",
     "output_type": "stream",
     "text": [
      "C:\\Users\\91721\\anaconda3\\Lib\\site-packages\\keras\\src\\layers\\core\\embedding.py:90: UserWarning: Argument `input_length` is deprecated. Just remove it.\n",
      "  warnings.warn(\n"
     ]
    },
    {
     "data": {
      "image/png": "[encoded data removed]",
      "text/plain": [
       "<Figure size 640x480 with 1 Axes>"
      ]
     },
     "metadata": {},
     "output_type": "display_data"
    },
    {
     "name": "stdout",
     "output_type": "stream",
     "text": [
      "\u001b[1m1/1\u001b[0m \u001b[32m━━━━━━━━━━━━━━━━━━━━\u001b[0m\u001b[37m\u001b[0m \u001b[1m0s\u001b[0m 64ms/step\n",
      "Input: 'known as structured learning' -> Predicted next word: 'deep'\n",
      "\u001b[1m1/1\u001b[0m \u001b[32m━━━━━━━━━━━━━━━━━━━━\u001b[0m\u001b[37m\u001b[0m \u001b[1m0s\u001b[0m 22ms/step\n",
      "Input: 'transformers have applied to' -> Predicted next word: 'been'\n",
      "\u001b[1m1/1\u001b[0m \u001b[32m━━━━━━━━━━━━━━━━━━━━\u001b[0m\u001b[37m\u001b[0m \u001b[1m0s\u001b[0m 22ms/step\n",
      "Input: 'where they produced results' -> Predicted next word: 'have'\n",
      "\u001b[1m1/1\u001b[0m \u001b[32m━━━━━━━━━━━━━━━━━━━━\u001b[0m\u001b[37m\u001b[0m \u001b[1m0s\u001b[0m 22ms/step\n",
      "Input: 'cases surpassing expert performance' -> Predicted next word: 'human'\n"
     ]
    }
   ],
   "source": [
    "import numpy as np\n",
    "import re\n",
    "from tensorflow.keras.preprocessing.text import Tokenizer\n",
    "import tensorflow as tf\n",
    "from tensorflow.keras.models import Sequential\n",
    "from tensorflow.keras.layers import Dense, Embedding, Lambda\n",
    "import seaborn as sns\n",
    "import matplotlib.pyplot as plt\n",
    "\n",
    "# Sample text data\n",
    "data = \"\"\"Deep learning (also known as deep structured learning) is part of a broader family of machine learning methods based on artificial neural networks with representation learning. Learning can be supervised, semi-supervised or unsupervised. Deep-learning architectures such as deep neural networks, deep belief networks, deep reinforcement learning, recurrent neural networks, convolutional neural networks and Transformers have been applied to fields including computer vision, speech recognition, natural language processing, machine translation, bioinformatics, drug design, medical image analysis, climate science, material inspection and board game programs, where they have produced results comparable to and in some cases surpassing human expert performance.\"\"\"\n",
    "\n",
    "# Split data into sentences and preprocess\n",
    "sentences = data.split('.')\n",
    "clean_sentences = []\n",
    "\n",
    "for sentence in sentences:\n",
    "    sentence = sentence.strip()\n",
    "    if sentence:  # Skip empty sentences\n",
    "        sentence = re.sub('[^A-Za-z0-9]+', ' ', sentence).strip().lower()\n",
    "        clean_sentences.append(sentence)\n",
    "\n",
    "# Tokenize the sentences\n",
    "tokenizer = Tokenizer()\n",
    "tokenizer.fit_on_texts(clean_sentences)\n",
    "sequences = tokenizer.texts_to_sequences(clean_sentences)\n",
    "\n",
    "# Mapping index to word and word to index\n",
    "index_to_word = {index: word for word, index in tokenizer.word_index.items()}\n",
    "word_to_index = tokenizer.word_index\n",
    "\n",
    "# Create context and target pairs for training\n",
    "vocab_size = len(tokenizer.word_index) + 1\n",
    "emb_size = 10\n",
    "context_size = 2\n",
    "\n",
    "contexts = []\n",
    "targets = []\n",
    "\n",
    "for sequence in sequences:\n",
    "    for i in range(context_size, len(sequence) - context_size):\n",
    "        target = sequence[i]\n",
    "        context = [sequence[i - 2], sequence[i - 1], sequence[i + 1], sequence[i + 2]]\n",
    "        contexts.append(context)\n",
    "        targets.append(target)\n",
    "\n",
    "# Display first 5 context-target pairs\n",
    "for i in range(15):\n",
    "    context_words = [index_to_word.get(idx) for idx in contexts[i]]\n",
    "    target_word = index_to_word.get(targets[i])\n",
    "    print(i+1,context_words, \" -> \", target_word)\n",
    "\n",
    "# Prepare data for the model\n",
    "X = np.array(contexts)\n",
    "Y = np.array(targets)\n",
    "\n",
    "# Define the model\n",
    "model = Sequential([\n",
    "    Embedding(input_dim=vocab_size, output_dim=emb_size, input_length=2 * context_size),\n",
    "    Lambda(lambda x: tf.reduce_mean(x, axis=1)),\n",
    "    Dense(256, activation='relu'),\n",
    "    Dense(512, activation='relu'),\n",
    "    Dense(vocab_size, activation='softmax')\n",
    "])\n",
    "\n",
    "# Compile and train the model\n",
    "model.compile(loss='sparse_categorical_crossentropy', optimizer='adam', metrics=['accuracy'])\n",
    "history = model.fit(X, Y, epochs=80, verbose=0)  \n",
    "\n",
    "# Plot training loss and accuracy\n",
    "sns.lineplot(x=range(len(history.history['loss'])), y=history.history['loss'], label='Loss')\n",
    "sns.lineplot(x=range(len(history.history['accuracy'])), y=history.history['accuracy'], label='Accuracy')\n",
    "plt.xlabel(\"Epochs\")\n",
    "plt.ylabel(\"Metrics\")\n",
    "plt.legend()\n",
    "plt.show()\n",
    "\n",
    "# Test model predictions with sample sentences\n",
    "test_sentences = [\n",
    "    \"known as structured learning\",\n",
    "    \"transformers have applied to\",\n",
    "    \"where they produced results\",\n",
    "    \"cases surpassing expert performance\"\n",
    "]\n",
    "\n",
    "for sentence in test_sentences:\n",
    "    test_sequence = [word_to_index.get(word, 0) for word in sentence.split()]\n",
    "    test_sequence = np.array([test_sequence])\n",
    "    \n",
    "    prediction = model.predict(test_sequence)\n",
    "    predicted_word_index = np.argmax(prediction[0])\n",
    "    predicted_word = index_to_word.get(predicted_word_index, \"Unknown\")\n",
    "    \n",
    "    print(f\"Input: '{sentence}' -> Predicted next word: '{predicted_word}'\")\n"
   ]
  },
  {
   "cell_type": "code",
   "execution_count": null,
   "id": "2e6e359e",
   "metadata": {},
   "outputs": [],
   "source": []
  }
 ],
 "metadata": {
  "kernelspec": {
   "display_name": "Python 3 (ipykernel)",
   "language": "python",
   "name": "python3"
  },
  "language_info": {
   "codemirror_mode": {
    "name": "ipython",
    "version": 3
   },
   "file_extension": ".py",
   "mimetype": "text/x-python",
   "name": "python",
   "nbconvert_exporter": "python",
   "pygments_lexer": "ipython3",
   "version": "3.11.5"
  }
 },
 "nbformat": 4,
 "nbformat_minor": 5
}
